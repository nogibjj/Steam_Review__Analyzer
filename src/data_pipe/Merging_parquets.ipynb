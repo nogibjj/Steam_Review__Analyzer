{
 "cells": [
  {
   "cell_type": "code",
   "execution_count": 0,
   "metadata": {
    "application/vnd.databricks.v1+cell": {
     "cellMetadata": {},
     "inputWidgets": {},
     "nuid": "784b22c4-29bc-4528-9381-c7d830b07f4a",
     "showTitle": false,
     "title": ""
    }
   },
   "outputs": [],
   "source": [
    "import pandas as pd\n",
    "import os"
   ]
  },
  {
   "cell_type": "code",
   "execution_count": 0,
   "metadata": {
    "application/vnd.databricks.v1+cell": {
     "cellMetadata": {},
     "inputWidgets": {},
     "nuid": "5361e019-6b98-4416-8081-0ace500e1b3f",
     "showTitle": false,
     "title": ""
    }
   },
   "outputs": [],
   "source": [
    "parquet_folder = \"/dbfs/FileStore/cleanParquet/\" \n",
    "\n",
    "merged_df = pd.DataFrame()\n",
    "\n",
    "parquet_files = [\n",
    "    os.path.join(parquet_folder, file)\n",
    "    for file in os.listdir(parquet_folder)\n",
    "    if file.endswith(\".parquet\")\n",
    "]"
   ]
  },
  {
   "cell_type": "code",
   "execution_count": 0,
   "metadata": {
    "application/vnd.databricks.v1+cell": {
     "cellMetadata": {},
     "inputWidgets": {},
     "nuid": "59b7818e-cd35-4960-90ba-cf614939db0d",
     "showTitle": false,
     "title": ""
    }
   },
   "outputs": [],
   "source": [
    "parquet_files"
   ]
  },
  {
   "cell_type": "code",
   "execution_count": 0,
   "metadata": {
    "application/vnd.databricks.v1+cell": {
     "cellMetadata": {},
     "inputWidgets": {},
     "nuid": "d6932eaf-16b3-42f8-bb47-68530f9c1046",
     "showTitle": false,
     "title": ""
    }
   },
   "outputs": [],
   "source": [
    "for file in parquet_files:\n",
    "    game_name = os.path.splitext(os.path.basename(file))[0]\n",
    "    file_df = pd.read_parquet(file)\n",
    "\n",
    "    game_name_list = [game_name] * len(file_df)\n",
    "\n",
    "    file_df[\"game_name\"] = game_name_list\n",
    "\n",
    "    # Save the modified DataFrame back to the same Parquet file\n",
    "    file_df.to_parquet(file, index=False)"
   ]
  },
  {
   "cell_type": "code",
   "execution_count": 0,
   "metadata": {
    "application/vnd.databricks.v1+cell": {
     "cellMetadata": {},
     "inputWidgets": {},
     "nuid": "40a87f1c-1c2e-45ef-a693-4d1178793b79",
     "showTitle": false,
     "title": ""
    }
   },
   "outputs": [],
   "source": [
    "dfs = [pd.read_parquet(file_path) for file_path in parquet_files]\n",
    "\n",
    "# Identify common columns\n",
    "common_columns = [\n",
    "    \"recommendationid\",\n",
    "    \"review\",\n",
    "    \"timestamp_created\",\n",
    "    \"timestamp_updated\",\n",
    "    \"voted_up\",\n",
    "    \"votes_up\",\n",
    "    \"votes_funny\",\n",
    "    \"weighted_vote_score\",\n",
    "    \"comment_count\",\n",
    "    \"steam_purchase\",\n",
    "    \"received_for_free\",\n",
    "    \"written_during_early_access\",\n",
    "    \"steamid\",\n",
    "    \"num_games_owned\",\n",
    "    \"num_reviews\",\n",
    "    \"last_played\",\n",
    "]\n",
    "\n",
    "# Add 'author_' columns\n",
    "author_columns = [\n",
    "    \"author_steamid\",\n",
    "    \"author_num_games_owned\",\n",
    "    \"author_num_reviews\",\n",
    "    \"author_playtime_forever\",\n",
    "    \"author_playtime_last_two_weeks\",\n",
    "    \"author_playtime_at_review\",\n",
    "    \"author_last_played\",\n",
    "]"
   ]
  },
  {
   "cell_type": "code",
   "execution_count": 0,
   "metadata": {
    "application/vnd.databricks.v1+cell": {
     "cellMetadata": {},
     "inputWidgets": {},
     "nuid": "8533d015-f8a8-41dd-9445-805b07f70685",
     "showTitle": false,
     "title": ""
    }
   },
   "outputs": [],
   "source": [
    "for df in dfs:\n",
    "    for author_col in author_columns:\n",
    "        new_col_name = author_col.replace(\"author_\", \"\")\n",
    "        if author_col in df.columns:\n",
    "            df[new_col_name] = df[author_col]\n",
    "        df.drop(columns=[author_col], errors=\"ignore\", inplace=True)\n",
    "\n",
    "# Concatenate DataFrames based on the common set of columns\n",
    "merged_df = pd.concat(dfs, ignore_index=True)\n",
    "\n",
    "# Display the merged DataFrame\n",
    "merged_df.head()"
   ]
  },
  {
   "cell_type": "code",
   "execution_count": 0,
   "metadata": {
    "application/vnd.databricks.v1+cell": {
     "cellMetadata": {},
     "inputWidgets": {},
     "nuid": "3a6fea92-3fa7-405b-8bce-5a25c095b411",
     "showTitle": false,
     "title": ""
    }
   },
   "outputs": [],
   "source": [
    "merged_df[\"game_name\"] = merged_df[\"game_name\"].replace(\n",
    "    {\n",
    "        \"rust_clean\": \"Rust\",\n",
    "        \"phasmophobia_clean\": \"Phasmophobia\",\n",
    "        \"stardew_valley_pos_clean\": \"Stardew Valley\",\n",
    "        \"fallout4_clean\": \"Fallout 4\",\n",
    "        \"dead_by_daylight_clean\": \"Dead by Daylight\",\n",
    "        \"sea_of_thieves_clean\": \"Sea of Thieves\",\n",
    "        \"No_Man's_Sky_clean\": \"No Man's Sky\",\n",
    "        \"stardew_valley_neg_clean\": \"Stardew Valley\",  # Assuming positive and negative share the same name\n",
    "    }\n",
    ")\n",
    "\n",
    "# Display the modified DataFrame\n",
    "print(merged_df)"
   ]
  },
  {
   "cell_type": "code",
   "execution_count": 0,
   "metadata": {
    "application/vnd.databricks.v1+cell": {
     "cellMetadata": {},
     "inputWidgets": {},
     "nuid": "854e7500-af03-4cd4-bffb-72729b3917c0",
     "showTitle": false,
     "title": ""
    }
   },
   "outputs": [],
   "source": [
    "merged_df = merged_df.drop([\"timestamp_dev_responded\", \"developer_response\"], axis=1)"
   ]
  },
  {
   "cell_type": "code",
   "execution_count": 0,
   "metadata": {
    "application/vnd.databricks.v1+cell": {
     "cellMetadata": {},
     "inputWidgets": {},
     "nuid": "43f63107-10ad-48dc-819c-e1c9585ac44b",
     "showTitle": false,
     "title": ""
    }
   },
   "outputs": [],
   "source": [
    "merged_df[\"playtime_forever\"] = (merged_df[\"playtime_forever\"] / 60).round(2)\n",
    "merged_df[\"playtime_at_review\"] = (merged_df[\"playtime_at_review\"] / 60).round(2)"
   ]
  },
  {
   "cell_type": "code",
   "execution_count": 0,
   "metadata": {
    "application/vnd.databricks.v1+cell": {
     "cellMetadata": {},
     "inputWidgets": {},
     "nuid": "530dbab3-2355-4342-ac93-2c27b162cba0",
     "showTitle": false,
     "title": ""
    }
   },
   "outputs": [],
   "source": [
    "folder_path = \"/dbfs/FileStore/finalParquet/\"\n",
    "file_path = os.path.join(folder_path, \"final_parquet_test.parquet\")\n",
    "\n",
    "os.makedirs(folder_path, exist_ok=True)\n",
    "\n",
    "merged_df.to_parquet(file_path, index=False)"
   ]
  }
 ],
 "metadata": {
  "application/vnd.databricks.v1+notebook": {
   "dashboards": [],
   "language": "python",
   "notebookMetadata": {
    "pythonIndentUnit": 4
   },
   "notebookName": "Merging_parquets",
   "widgets": {}
  },
  "kernelspec": {
   "display_name": "base",
   "language": "python",
   "name": "python3"
  },
  "language_info": {
   "codemirror_mode": {
    "name": "ipython",
    "version": 3
   },
   "file_extension": ".py",
   "mimetype": "text/x-python",
   "name": "python",
   "nbconvert_exporter": "python",
   "pygments_lexer": "ipython3",
   "version": "3.11.5"
  }
 },
 "nbformat": 4,
 "nbformat_minor": 0
}
