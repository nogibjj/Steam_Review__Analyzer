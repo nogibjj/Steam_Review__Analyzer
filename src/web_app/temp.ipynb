{
 "cells": [
  {
   "cell_type": "code",
   "execution_count": 1,
   "metadata": {},
   "outputs": [],
   "source": [
    "import pandas as pd\n",
    "import plotly.graph_objs as go\n",
    "import plotly\n"
   ]
  },
  {
   "cell_type": "code",
   "execution_count": 4,
   "metadata": {},
   "outputs": [],
   "source": [
    "data = pd.read_parquet(\"/workspaces/Steam_Review__Analyzer/src/data/No_Man's_Sky_clean.parquet\")"
   ]
  },
  {
   "cell_type": "code",
   "execution_count": 5,
   "metadata": {},
   "outputs": [
    {
     "data": {
      "text/plain": [
       "Index(['recommendationid', 'review', 'timestamp_created', 'timestamp_updated',\n",
       "       'voted_up', 'votes_up', 'votes_funny', 'weighted_vote_score',\n",
       "       'comment_count', 'steam_purchase', 'received_for_free',\n",
       "       'written_during_early_access', 'author_steamid',\n",
       "       'author_num_games_owned', 'author_num_reviews',\n",
       "       'author_playtime_forever', 'author_playtime_last_two_weeks',\n",
       "       'author_playtime_at_review', 'author_last_played', 'game_name'],\n",
       "      dtype='object')"
      ]
     },
     "execution_count": 5,
     "metadata": {},
     "output_type": "execute_result"
    }
   ],
   "source": [
    "data.columns"
   ]
  },
  {
   "cell_type": "code",
   "execution_count": 7,
   "metadata": {},
   "outputs": [
    {
     "data": {
      "text/plain": [
       "\"..\\\\..\\\\..\\\\data_pipe\\\\data\\\\No_Man's_Sky.html\""
      ]
     },
     "execution_count": 7,
     "metadata": {},
     "output_type": "execute_result"
    }
   ],
   "source": [
    "plot = go.Figure(data=go.Scatter(x=data['votes_up'], y=data['weighted_vote_score']))\n",
    "#show plot\n",
    "plotly.offline.plot(plot, filename='..\\\\..\\\\..\\\\data_pipe\\\\data\\\\No_Man\\'s_Sky.html')"
   ]
  },
  {
   "cell_type": "code",
   "execution_count": 14,
   "metadata": {},
   "outputs": [
    {
     "data": {
      "text/plain": [
       "\"..\\\\..\\\\..\\\\data_pipe\\\\data\\\\No_Man's_Sky_hist.html\""
      ]
     },
     "execution_count": 14,
     "metadata": {},
     "output_type": "execute_result"
    }
   ],
   "source": [
    "plot = go.Figure(data=go.Histogram(x=data['voted_up']))\n",
    "#show plot\n",
    "plotly.offline.plot(plot, filename='..\\\\..\\\\..\\\\data_pipe\\\\data\\\\No_Man\\'s_Sky_hist.html')"
   ]
  },
  {
   "cell_type": "code",
   "execution_count": null,
   "metadata": {},
   "outputs": [],
   "source": []
  }
 ],
 "metadata": {
  "kernelspec": {
   "display_name": "venv",
   "language": "python",
   "name": "python3"
  },
  "language_info": {
   "codemirror_mode": {
    "name": "ipython",
    "version": 3
   },
   "file_extension": ".py",
   "mimetype": "text/x-python",
   "name": "python",
   "nbconvert_exporter": "python",
   "pygments_lexer": "ipython3",
   "version": "3.8.10"
  }
 },
 "nbformat": 4,
 "nbformat_minor": 2
}
