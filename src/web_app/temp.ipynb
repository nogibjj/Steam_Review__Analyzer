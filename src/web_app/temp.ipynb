{
 "cells": [
  {
   "cell_type": "code",
   "execution_count": 5,
   "metadata": {},
   "outputs": [],
   "source": [
    "import pandas as pd\n",
    "import plotly.graph_objs as go\n",
    "import plotly\n"
   ]
  },
  {
   "cell_type": "code",
   "execution_count": 2,
   "metadata": {},
   "outputs": [],
   "source": [
    "data = pd.read_parquet(\"..\\\\..\\\\..\\\\data_pipe\\\\data\\\\No_Man's_Sky.parquet\")"
   ]
  },
  {
   "cell_type": "code",
   "execution_count": 4,
   "metadata": {},
   "outputs": [
    {
     "data": {
      "text/html": [
       "<div>\n",
       "<style scoped>\n",
       "    .dataframe tbody tr th:only-of-type {\n",
       "        vertical-align: middle;\n",
       "    }\n",
       "\n",
       "    .dataframe tbody tr th {\n",
       "        vertical-align: top;\n",
       "    }\n",
       "\n",
       "    .dataframe thead th {\n",
       "        text-align: right;\n",
       "    }\n",
       "</style>\n",
       "<table border=\"1\" class=\"dataframe\">\n",
       "  <thead>\n",
       "    <tr style=\"text-align: right;\">\n",
       "      <th></th>\n",
       "      <th>recommendationid</th>\n",
       "      <th>language</th>\n",
       "      <th>review</th>\n",
       "      <th>timestamp_created</th>\n",
       "      <th>timestamp_updated</th>\n",
       "      <th>voted_up</th>\n",
       "      <th>votes_up</th>\n",
       "      <th>votes_funny</th>\n",
       "      <th>weighted_vote_score</th>\n",
       "      <th>comment_count</th>\n",
       "      <th>...</th>\n",
       "      <th>written_during_early_access</th>\n",
       "      <th>hidden_in_steam_china</th>\n",
       "      <th>steam_china_location</th>\n",
       "      <th>author_steamid</th>\n",
       "      <th>author_num_games_owned</th>\n",
       "      <th>author_num_reviews</th>\n",
       "      <th>author_playtime_forever</th>\n",
       "      <th>author_playtime_last_two_weeks</th>\n",
       "      <th>author_playtime_at_review</th>\n",
       "      <th>author_last_played</th>\n",
       "    </tr>\n",
       "  </thead>\n",
       "  <tbody>\n",
       "    <tr>\n",
       "      <th>0</th>\n",
       "      <td>118188008</td>\n",
       "      <td>english</td>\n",
       "      <td>No Man’s Sky is like a guy who owes you $1,000...</td>\n",
       "      <td>1656932000</td>\n",
       "      <td>1656932000</td>\n",
       "      <td>True</td>\n",
       "      <td>2633</td>\n",
       "      <td>99</td>\n",
       "      <td>0.980641186237335205</td>\n",
       "      <td>42</td>\n",
       "      <td>...</td>\n",
       "      <td>False</td>\n",
       "      <td>False</td>\n",
       "      <td></td>\n",
       "      <td>76561198007888370</td>\n",
       "      <td>471</td>\n",
       "      <td>399</td>\n",
       "      <td>6983</td>\n",
       "      <td>0</td>\n",
       "      <td>6983</td>\n",
       "      <td>1644337184</td>\n",
       "    </tr>\n",
       "  </tbody>\n",
       "</table>\n",
       "<p>1 rows × 22 columns</p>\n",
       "</div>"
      ],
      "text/plain": [
       "  recommendationid language  \\\n",
       "0        118188008  english   \n",
       "\n",
       "                                              review  timestamp_created  \\\n",
       "0  No Man’s Sky is like a guy who owes you $1,000...         1656932000   \n",
       "\n",
       "   timestamp_updated  voted_up  votes_up  votes_funny   weighted_vote_score  \\\n",
       "0         1656932000      True      2633           99  0.980641186237335205   \n",
       "\n",
       "   comment_count  ...  written_during_early_access  hidden_in_steam_china  \\\n",
       "0             42  ...                        False                  False   \n",
       "\n",
       "   steam_china_location     author_steamid author_num_games_owned  \\\n",
       "0                        76561198007888370                    471   \n",
       "\n",
       "  author_num_reviews  author_playtime_forever  author_playtime_last_two_weeks  \\\n",
       "0                399                     6983                               0   \n",
       "\n",
       "   author_playtime_at_review  author_last_played  \n",
       "0                       6983          1644337184  \n",
       "\n",
       "[1 rows x 22 columns]"
      ]
     },
     "execution_count": 4,
     "metadata": {},
     "output_type": "execute_result"
    }
   ],
   "source": [
    "data.head(1)"
   ]
  },
  {
   "cell_type": "code",
   "execution_count": 7,
   "metadata": {},
   "outputs": [
    {
     "data": {
      "text/plain": [
       "\"..\\\\..\\\\..\\\\data_pipe\\\\data\\\\No_Man's_Sky.html\""
      ]
     },
     "execution_count": 7,
     "metadata": {},
     "output_type": "execute_result"
    }
   ],
   "source": [
    "plot = go.Figure(data=go.Scatter(x=data['votes_up'], y=data['weighted_vote_score']))\n",
    "#show plot\n",
    "plotly.offline.plot(plot, filename='..\\\\..\\\\..\\\\data_pipe\\\\data\\\\No_Man\\'s_Sky.html')"
   ]
  },
  {
   "cell_type": "code",
   "execution_count": 14,
   "metadata": {},
   "outputs": [
    {
     "data": {
      "text/plain": [
       "\"..\\\\..\\\\..\\\\data_pipe\\\\data\\\\No_Man's_Sky_hist.html\""
      ]
     },
     "execution_count": 14,
     "metadata": {},
     "output_type": "execute_result"
    }
   ],
   "source": [
    "plot = go.Figure(data=go.Histogram(x=data['voted_up']))\n",
    "#show plot\n",
    "plotly.offline.plot(plot, filename='..\\\\..\\\\..\\\\data_pipe\\\\data\\\\No_Man\\'s_Sky_hist.html')"
   ]
  },
  {
   "cell_type": "code",
   "execution_count": null,
   "metadata": {},
   "outputs": [],
   "source": []
  }
 ],
 "metadata": {
  "kernelspec": {
   "display_name": "venv",
   "language": "python",
   "name": "python3"
  },
  "language_info": {
   "codemirror_mode": {
    "name": "ipython",
    "version": 3
   },
   "file_extension": ".py",
   "mimetype": "text/x-python",
   "name": "python",
   "nbconvert_exporter": "python",
   "pygments_lexer": "ipython3",
   "version": "3.11.5"
  }
 },
 "nbformat": 4,
 "nbformat_minor": 2
}
